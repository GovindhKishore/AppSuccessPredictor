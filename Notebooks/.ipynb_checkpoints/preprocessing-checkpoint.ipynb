{
 "cells": [
  {
   "cell_type": "code",
   "id": "initial_id",
   "metadata": {
    "collapsed": true,
    "ExecuteTime": {
     "end_time": "2025-09-28T20:46:29.870167Z",
     "start_time": "2025-09-28T20:46:29.532802Z"
    }
   },
   "source": [
    "import pandas as pd\n",
    "import numpy as np\n",
    "from sklearn.compose import ColumnTransformer\n",
    "from sklearn.preprocessing import OneHotEncoder, OrdinalEncoder\n",
    "from xgboost import XGBRegressor\n",
    "from sklearn.ensemble import RandomForestRegressor\n",
    "from sklearn.model_selection import cross_val_score, KFold, train_test_split\n",
    "from sklearn.pipeline import Pipeline\n",
    "from sklearn.metrics import mean_squared_error, mean_absolute_error"
   ],
   "outputs": [],
   "execution_count": 3
  },
  {
   "metadata": {
    "ExecuteTime": {
     "end_time": "2025-09-28T20:46:30.082745Z",
     "start_time": "2025-09-28T20:46:29.989196Z"
    }
   },
   "cell_type": "code",
   "source": [
    "df1 = pd.read_csv(\"../data/playstore_cleaned (2).csv\")\n",
    "df2 = pd.read_csv(\"../data/playstore_cleaned_recentyear.csv\")"
   ],
   "id": "caa6c2719ddf0ee1",
   "outputs": [],
   "execution_count": 4
  },
  {
   "metadata": {
    "ExecuteTime": {
     "end_time": "2025-09-28T20:46:30.142522Z",
     "start_time": "2025-09-28T20:46:30.124946Z"
    }
   },
   "cell_type": "code",
   "source": "df1.columns, df2.columns",
   "id": "7a6620832227a899",
   "outputs": [
    {
     "data": {
      "text/plain": [
       "(Index(['Unnamed: 0', 'App', 'Category', 'Rating', 'Reviews', 'Size',\n",
       "        'Installs', 'Type', 'Price', 'Content Rating', 'Genres', 'Current Ver',\n",
       "        'Android Ver', 'Day', 'month', 'year'],\n",
       "       dtype='object'),\n",
       " Index(['Unnamed: 0', 'App', 'Category', 'Rating', 'Reviews', 'Size',\n",
       "        'Installs', 'Type', 'Price', 'Content Rating', 'Genres', 'Current Ver',\n",
       "        'Android Ver', 'Day', 'month', 'year'],\n",
       "       dtype='object'))"
      ]
     },
     "execution_count": 5,
     "metadata": {},
     "output_type": "execute_result"
    }
   ],
   "execution_count": 5
  },
  {
   "metadata": {
    "ExecuteTime": {
     "end_time": "2025-09-28T20:46:30.216797Z",
     "start_time": "2025-09-28T20:46:30.211755Z"
    }
   },
   "cell_type": "code",
   "source": "#df2 = df2.rename(columns={\"Size (KB)\": \"Size\"})",
   "id": "145ae3539c1404a5",
   "outputs": [],
   "execution_count": 6
  },
  {
   "metadata": {
    "ExecuteTime": {
     "end_time": "2025-09-28T20:46:30.265250Z",
     "start_time": "2025-09-28T20:46:30.256767Z"
    }
   },
   "cell_type": "code",
   "source": "df = pd.concat([df1, df2], ignore_index=True)",
   "id": "bfde21ceeaed9cb4",
   "outputs": [],
   "execution_count": 7
  },
  {
   "metadata": {
    "ExecuteTime": {
     "end_time": "2025-09-28T20:46:30.345113Z",
     "start_time": "2025-09-28T20:46:30.309275Z"
    }
   },
   "cell_type": "code",
   "source": "df",
   "id": "7c0f9b51af4d7761",
   "outputs": [
    {
     "data": {
      "text/plain": [
       "       Unnamed: 0                                                App  \\\n",
       "0               0     Photo Editor & Candy Camera & Grid & ScrapBook   \n",
       "1               1                                Coloring book moana   \n",
       "2               2  U Launcher Lite – FREE Live Cool Themes, Hide ...   \n",
       "3               3                              Sketch - Draw & Paint   \n",
       "4               4              Pixel Draw - Number Art Coloring Book   \n",
       "...           ...                                                ...   \n",
       "11781       11886                                              Canva   \n",
       "11782       11887                                         Sketchbook   \n",
       "11783       11888                                     MediBang Paint   \n",
       "11784       11889                                       ibis Paint X   \n",
       "11785       11890                                            ArtFlow   \n",
       "\n",
       "             Category  Rating   Reviews     Size   Installs  Type  Price  \\\n",
       "0      ART_AND_DESIGN     4.1       159  19000.0      10000  Free    0.0   \n",
       "1      ART_AND_DESIGN     3.9       967  14000.0     500000  Free    0.0   \n",
       "2      ART_AND_DESIGN     4.7     87510   8700.0    5000000  Free    0.0   \n",
       "3      ART_AND_DESIGN     4.5    215644  25000.0   50000000  Free    0.0   \n",
       "4      ART_AND_DESIGN     4.3       967   2800.0     100000  Free    0.0   \n",
       "...               ...     ...       ...      ...        ...   ...    ...   \n",
       "11781  ART_AND_DESIGN     4.7  12000000  40000.0  100000000  Free    0.0   \n",
       "11782  ART_AND_DESIGN     4.3    800000  90000.0   50000000  Free    0.0   \n",
       "11783  ART_AND_DESIGN     4.4    500000  60000.0   10000000  Free    0.0   \n",
       "11784  ART_AND_DESIGN     4.6   3000000  70000.0  100000000  Free    0.0   \n",
       "11785  ART_AND_DESIGN     4.3    100000  40000.0    5000000  Free    0.0   \n",
       "\n",
       "      Content Rating                     Genres         Current Ver  \\\n",
       "0           Everyone               Art & Design               1.0.0   \n",
       "1           Everyone  Art & Design;Pretend Play               2.0.0   \n",
       "2           Everyone               Art & Design               1.2.4   \n",
       "3               Teen               Art & Design  Varies with device   \n",
       "4           Everyone    Art & Design;Creativity                 1.1   \n",
       "...              ...                        ...                 ...   \n",
       "11781       Everyone               Art & Design  Varies with device   \n",
       "11782       Everyone               Art & Design  Varies with device   \n",
       "11783       Everyone               Art & Design                25.3   \n",
       "11784       Everyone               Art & Design              10.0.6   \n",
       "11785       Everyone               Art & Design              2.9.15   \n",
       "\n",
       "        Android Ver  Day  month  year  \n",
       "0      4.0.3 and up    7      1  2018  \n",
       "1      4.0.3 and up   15      1  2018  \n",
       "2      4.0.3 and up    1      8  2018  \n",
       "3        4.2 and up    8      6  2018  \n",
       "4        4.4 and up   20      6  2018  \n",
       "...             ...  ...    ...   ...  \n",
       "11781    5.0 and up   22      8  2020  \n",
       "11782    5.0 and up    1      1  2020  \n",
       "11783    5.0 and up    1      1  2020  \n",
       "11784    4.4 and up    1      1  2020  \n",
       "11785    4.4 and up    1      1  2020  \n",
       "\n",
       "[11786 rows x 16 columns]"
      ],
      "text/html": [
       "<div>\n",
       "<style scoped>\n",
       "    .dataframe tbody tr th:only-of-type {\n",
       "        vertical-align: middle;\n",
       "    }\n",
       "\n",
       "    .dataframe tbody tr th {\n",
       "        vertical-align: top;\n",
       "    }\n",
       "\n",
       "    .dataframe thead th {\n",
       "        text-align: right;\n",
       "    }\n",
       "</style>\n",
       "<table border=\"1\" class=\"dataframe\">\n",
       "  <thead>\n",
       "    <tr style=\"text-align: right;\">\n",
       "      <th></th>\n",
       "      <th>Unnamed: 0</th>\n",
       "      <th>App</th>\n",
       "      <th>Category</th>\n",
       "      <th>Rating</th>\n",
       "      <th>Reviews</th>\n",
       "      <th>Size</th>\n",
       "      <th>Installs</th>\n",
       "      <th>Type</th>\n",
       "      <th>Price</th>\n",
       "      <th>Content Rating</th>\n",
       "      <th>Genres</th>\n",
       "      <th>Current Ver</th>\n",
       "      <th>Android Ver</th>\n",
       "      <th>Day</th>\n",
       "      <th>month</th>\n",
       "      <th>year</th>\n",
       "    </tr>\n",
       "  </thead>\n",
       "  <tbody>\n",
       "    <tr>\n",
       "      <th>0</th>\n",
       "      <td>0</td>\n",
       "      <td>Photo Editor &amp; Candy Camera &amp; Grid &amp; ScrapBook</td>\n",
       "      <td>ART_AND_DESIGN</td>\n",
       "      <td>4.1</td>\n",
       "      <td>159</td>\n",
       "      <td>19000.0</td>\n",
       "      <td>10000</td>\n",
       "      <td>Free</td>\n",
       "      <td>0.0</td>\n",
       "      <td>Everyone</td>\n",
       "      <td>Art &amp; Design</td>\n",
       "      <td>1.0.0</td>\n",
       "      <td>4.0.3 and up</td>\n",
       "      <td>7</td>\n",
       "      <td>1</td>\n",
       "      <td>2018</td>\n",
       "    </tr>\n",
       "    <tr>\n",
       "      <th>1</th>\n",
       "      <td>1</td>\n",
       "      <td>Coloring book moana</td>\n",
       "      <td>ART_AND_DESIGN</td>\n",
       "      <td>3.9</td>\n",
       "      <td>967</td>\n",
       "      <td>14000.0</td>\n",
       "      <td>500000</td>\n",
       "      <td>Free</td>\n",
       "      <td>0.0</td>\n",
       "      <td>Everyone</td>\n",
       "      <td>Art &amp; Design;Pretend Play</td>\n",
       "      <td>2.0.0</td>\n",
       "      <td>4.0.3 and up</td>\n",
       "      <td>15</td>\n",
       "      <td>1</td>\n",
       "      <td>2018</td>\n",
       "    </tr>\n",
       "    <tr>\n",
       "      <th>2</th>\n",
       "      <td>2</td>\n",
       "      <td>U Launcher Lite – FREE Live Cool Themes, Hide ...</td>\n",
       "      <td>ART_AND_DESIGN</td>\n",
       "      <td>4.7</td>\n",
       "      <td>87510</td>\n",
       "      <td>8700.0</td>\n",
       "      <td>5000000</td>\n",
       "      <td>Free</td>\n",
       "      <td>0.0</td>\n",
       "      <td>Everyone</td>\n",
       "      <td>Art &amp; Design</td>\n",
       "      <td>1.2.4</td>\n",
       "      <td>4.0.3 and up</td>\n",
       "      <td>1</td>\n",
       "      <td>8</td>\n",
       "      <td>2018</td>\n",
       "    </tr>\n",
       "    <tr>\n",
       "      <th>3</th>\n",
       "      <td>3</td>\n",
       "      <td>Sketch - Draw &amp; Paint</td>\n",
       "      <td>ART_AND_DESIGN</td>\n",
       "      <td>4.5</td>\n",
       "      <td>215644</td>\n",
       "      <td>25000.0</td>\n",
       "      <td>50000000</td>\n",
       "      <td>Free</td>\n",
       "      <td>0.0</td>\n",
       "      <td>Teen</td>\n",
       "      <td>Art &amp; Design</td>\n",
       "      <td>Varies with device</td>\n",
       "      <td>4.2 and up</td>\n",
       "      <td>8</td>\n",
       "      <td>6</td>\n",
       "      <td>2018</td>\n",
       "    </tr>\n",
       "    <tr>\n",
       "      <th>4</th>\n",
       "      <td>4</td>\n",
       "      <td>Pixel Draw - Number Art Coloring Book</td>\n",
       "      <td>ART_AND_DESIGN</td>\n",
       "      <td>4.3</td>\n",
       "      <td>967</td>\n",
       "      <td>2800.0</td>\n",
       "      <td>100000</td>\n",
       "      <td>Free</td>\n",
       "      <td>0.0</td>\n",
       "      <td>Everyone</td>\n",
       "      <td>Art &amp; Design;Creativity</td>\n",
       "      <td>1.1</td>\n",
       "      <td>4.4 and up</td>\n",
       "      <td>20</td>\n",
       "      <td>6</td>\n",
       "      <td>2018</td>\n",
       "    </tr>\n",
       "    <tr>\n",
       "      <th>...</th>\n",
       "      <td>...</td>\n",
       "      <td>...</td>\n",
       "      <td>...</td>\n",
       "      <td>...</td>\n",
       "      <td>...</td>\n",
       "      <td>...</td>\n",
       "      <td>...</td>\n",
       "      <td>...</td>\n",
       "      <td>...</td>\n",
       "      <td>...</td>\n",
       "      <td>...</td>\n",
       "      <td>...</td>\n",
       "      <td>...</td>\n",
       "      <td>...</td>\n",
       "      <td>...</td>\n",
       "      <td>...</td>\n",
       "    </tr>\n",
       "    <tr>\n",
       "      <th>11781</th>\n",
       "      <td>11886</td>\n",
       "      <td>Canva</td>\n",
       "      <td>ART_AND_DESIGN</td>\n",
       "      <td>4.7</td>\n",
       "      <td>12000000</td>\n",
       "      <td>40000.0</td>\n",
       "      <td>100000000</td>\n",
       "      <td>Free</td>\n",
       "      <td>0.0</td>\n",
       "      <td>Everyone</td>\n",
       "      <td>Art &amp; Design</td>\n",
       "      <td>Varies with device</td>\n",
       "      <td>5.0 and up</td>\n",
       "      <td>22</td>\n",
       "      <td>8</td>\n",
       "      <td>2020</td>\n",
       "    </tr>\n",
       "    <tr>\n",
       "      <th>11782</th>\n",
       "      <td>11887</td>\n",
       "      <td>Sketchbook</td>\n",
       "      <td>ART_AND_DESIGN</td>\n",
       "      <td>4.3</td>\n",
       "      <td>800000</td>\n",
       "      <td>90000.0</td>\n",
       "      <td>50000000</td>\n",
       "      <td>Free</td>\n",
       "      <td>0.0</td>\n",
       "      <td>Everyone</td>\n",
       "      <td>Art &amp; Design</td>\n",
       "      <td>Varies with device</td>\n",
       "      <td>5.0 and up</td>\n",
       "      <td>1</td>\n",
       "      <td>1</td>\n",
       "      <td>2020</td>\n",
       "    </tr>\n",
       "    <tr>\n",
       "      <th>11783</th>\n",
       "      <td>11888</td>\n",
       "      <td>MediBang Paint</td>\n",
       "      <td>ART_AND_DESIGN</td>\n",
       "      <td>4.4</td>\n",
       "      <td>500000</td>\n",
       "      <td>60000.0</td>\n",
       "      <td>10000000</td>\n",
       "      <td>Free</td>\n",
       "      <td>0.0</td>\n",
       "      <td>Everyone</td>\n",
       "      <td>Art &amp; Design</td>\n",
       "      <td>25.3</td>\n",
       "      <td>5.0 and up</td>\n",
       "      <td>1</td>\n",
       "      <td>1</td>\n",
       "      <td>2020</td>\n",
       "    </tr>\n",
       "    <tr>\n",
       "      <th>11784</th>\n",
       "      <td>11889</td>\n",
       "      <td>ibis Paint X</td>\n",
       "      <td>ART_AND_DESIGN</td>\n",
       "      <td>4.6</td>\n",
       "      <td>3000000</td>\n",
       "      <td>70000.0</td>\n",
       "      <td>100000000</td>\n",
       "      <td>Free</td>\n",
       "      <td>0.0</td>\n",
       "      <td>Everyone</td>\n",
       "      <td>Art &amp; Design</td>\n",
       "      <td>10.0.6</td>\n",
       "      <td>4.4 and up</td>\n",
       "      <td>1</td>\n",
       "      <td>1</td>\n",
       "      <td>2020</td>\n",
       "    </tr>\n",
       "    <tr>\n",
       "      <th>11785</th>\n",
       "      <td>11890</td>\n",
       "      <td>ArtFlow</td>\n",
       "      <td>ART_AND_DESIGN</td>\n",
       "      <td>4.3</td>\n",
       "      <td>100000</td>\n",
       "      <td>40000.0</td>\n",
       "      <td>5000000</td>\n",
       "      <td>Free</td>\n",
       "      <td>0.0</td>\n",
       "      <td>Everyone</td>\n",
       "      <td>Art &amp; Design</td>\n",
       "      <td>2.9.15</td>\n",
       "      <td>4.4 and up</td>\n",
       "      <td>1</td>\n",
       "      <td>1</td>\n",
       "      <td>2020</td>\n",
       "    </tr>\n",
       "  </tbody>\n",
       "</table>\n",
       "<p>11786 rows × 16 columns</p>\n",
       "</div>"
      ]
     },
     "execution_count": 8,
     "metadata": {},
     "output_type": "execute_result"
    }
   ],
   "execution_count": 8
  },
  {
   "metadata": {
    "ExecuteTime": {
     "end_time": "2025-09-28T20:46:30.468990Z",
     "start_time": "2025-09-28T20:46:30.454048Z"
    }
   },
   "cell_type": "code",
   "source": [
    "df.drop(axis=1, columns=[\"Unnamed: 0\", \"Type\", \"App\", \"Genres\",\n",
    "                         \"Current Ver\", \"Android Ver\", \"Day\", \"month\"],\n",
    "        inplace=True)"
   ],
   "id": "33edf1e39f01041c",
   "outputs": [],
   "execution_count": 9
  },
  {
   "metadata": {
    "ExecuteTime": {
     "end_time": "2025-09-28T20:46:30.714995Z",
     "start_time": "2025-09-28T20:46:30.694280Z"
    }
   },
   "cell_type": "code",
   "source": "df.head()",
   "id": "71983f1ca524250d",
   "outputs": [
    {
     "data": {
      "text/plain": [
       "         Category  Rating  Reviews     Size  Installs  Price Content Rating  \\\n",
       "0  ART_AND_DESIGN     4.1      159  19000.0     10000    0.0       Everyone   \n",
       "1  ART_AND_DESIGN     3.9      967  14000.0    500000    0.0       Everyone   \n",
       "2  ART_AND_DESIGN     4.7    87510   8700.0   5000000    0.0       Everyone   \n",
       "3  ART_AND_DESIGN     4.5   215644  25000.0  50000000    0.0           Teen   \n",
       "4  ART_AND_DESIGN     4.3      967   2800.0    100000    0.0       Everyone   \n",
       "\n",
       "   year  \n",
       "0  2018  \n",
       "1  2018  \n",
       "2  2018  \n",
       "3  2018  \n",
       "4  2018  "
      ],
      "text/html": [
       "<div>\n",
       "<style scoped>\n",
       "    .dataframe tbody tr th:only-of-type {\n",
       "        vertical-align: middle;\n",
       "    }\n",
       "\n",
       "    .dataframe tbody tr th {\n",
       "        vertical-align: top;\n",
       "    }\n",
       "\n",
       "    .dataframe thead th {\n",
       "        text-align: right;\n",
       "    }\n",
       "</style>\n",
       "<table border=\"1\" class=\"dataframe\">\n",
       "  <thead>\n",
       "    <tr style=\"text-align: right;\">\n",
       "      <th></th>\n",
       "      <th>Category</th>\n",
       "      <th>Rating</th>\n",
       "      <th>Reviews</th>\n",
       "      <th>Size</th>\n",
       "      <th>Installs</th>\n",
       "      <th>Price</th>\n",
       "      <th>Content Rating</th>\n",
       "      <th>year</th>\n",
       "    </tr>\n",
       "  </thead>\n",
       "  <tbody>\n",
       "    <tr>\n",
       "      <th>0</th>\n",
       "      <td>ART_AND_DESIGN</td>\n",
       "      <td>4.1</td>\n",
       "      <td>159</td>\n",
       "      <td>19000.0</td>\n",
       "      <td>10000</td>\n",
       "      <td>0.0</td>\n",
       "      <td>Everyone</td>\n",
       "      <td>2018</td>\n",
       "    </tr>\n",
       "    <tr>\n",
       "      <th>1</th>\n",
       "      <td>ART_AND_DESIGN</td>\n",
       "      <td>3.9</td>\n",
       "      <td>967</td>\n",
       "      <td>14000.0</td>\n",
       "      <td>500000</td>\n",
       "      <td>0.0</td>\n",
       "      <td>Everyone</td>\n",
       "      <td>2018</td>\n",
       "    </tr>\n",
       "    <tr>\n",
       "      <th>2</th>\n",
       "      <td>ART_AND_DESIGN</td>\n",
       "      <td>4.7</td>\n",
       "      <td>87510</td>\n",
       "      <td>8700.0</td>\n",
       "      <td>5000000</td>\n",
       "      <td>0.0</td>\n",
       "      <td>Everyone</td>\n",
       "      <td>2018</td>\n",
       "    </tr>\n",
       "    <tr>\n",
       "      <th>3</th>\n",
       "      <td>ART_AND_DESIGN</td>\n",
       "      <td>4.5</td>\n",
       "      <td>215644</td>\n",
       "      <td>25000.0</td>\n",
       "      <td>50000000</td>\n",
       "      <td>0.0</td>\n",
       "      <td>Teen</td>\n",
       "      <td>2018</td>\n",
       "    </tr>\n",
       "    <tr>\n",
       "      <th>4</th>\n",
       "      <td>ART_AND_DESIGN</td>\n",
       "      <td>4.3</td>\n",
       "      <td>967</td>\n",
       "      <td>2800.0</td>\n",
       "      <td>100000</td>\n",
       "      <td>0.0</td>\n",
       "      <td>Everyone</td>\n",
       "      <td>2018</td>\n",
       "    </tr>\n",
       "  </tbody>\n",
       "</table>\n",
       "</div>"
      ]
     },
     "execution_count": 10,
     "metadata": {},
     "output_type": "execute_result"
    }
   ],
   "execution_count": 10
  },
  {
   "metadata": {},
   "cell_type": "markdown",
   "source": [
    "The App Success Score combines rating and reviews as Rating × log(1 + Reviews) to fairly capture both quality and popularity, with a log transform compressing large review counts and safely handling zeros.\n",
    "\n",
    "\n",
    "## Log Transformation\n",
    "\n",
    "The `log(1 + x)` function is used to compress large numerical values and handle zeros safely.\n",
    "It is especially useful for features like review counts, where values can range from 0 to millions.\n",
    "By applying `log(1 + x)`, small values remain meaningful, huge values are compressed, and zero values do not cause errors, making the data more suitable for modeling.\n",
    "\n"
   ],
   "id": "fb0c1cfdef09291c"
  },
  {
   "metadata": {
    "ExecuteTime": {
     "end_time": "2025-09-28T20:46:30.915897Z",
     "start_time": "2025-09-28T20:46:30.909725Z"
    }
   },
   "cell_type": "code",
   "source": "df[\"Score\"] = df[\"Rating\"] * np.log(1 + df[\"Reviews\"])",
   "id": "380fe866264f12ec",
   "outputs": [],
   "execution_count": 11
  },
  {
   "metadata": {
    "ExecuteTime": {
     "end_time": "2025-09-28T20:46:31.102275Z",
     "start_time": "2025-09-28T20:46:31.094228Z"
    }
   },
   "cell_type": "code",
   "source": "df.drop(axis=1, columns=[\"Rating\", \"Reviews\"], inplace=True)",
   "id": "68844adcbb43db2a",
   "outputs": [],
   "execution_count": 12
  },
  {
   "metadata": {
    "ExecuteTime": {
     "end_time": "2025-09-28T20:46:31.214260Z",
     "start_time": "2025-09-28T20:46:31.197498Z"
    }
   },
   "cell_type": "code",
   "source": "df.tail()",
   "id": "a3253b68e7a4343f",
   "outputs": [
    {
     "data": {
      "text/plain": [
       "             Category     Size   Installs  Price Content Rating  year  \\\n",
       "11781  ART_AND_DESIGN  40000.0  100000000    0.0       Everyone  2020   \n",
       "11782  ART_AND_DESIGN  90000.0   50000000    0.0       Everyone  2020   \n",
       "11783  ART_AND_DESIGN  60000.0   10000000    0.0       Everyone  2020   \n",
       "11784  ART_AND_DESIGN  70000.0  100000000    0.0       Everyone  2020   \n",
       "11785  ART_AND_DESIGN  40000.0    5000000    0.0       Everyone  2020   \n",
       "\n",
       "           Score  \n",
       "11781  76.611961  \n",
       "11782  58.447184  \n",
       "11783  57.738408  \n",
       "11784  68.604967  \n",
       "11785  49.505622  "
      ],
      "text/html": [
       "<div>\n",
       "<style scoped>\n",
       "    .dataframe tbody tr th:only-of-type {\n",
       "        vertical-align: middle;\n",
       "    }\n",
       "\n",
       "    .dataframe tbody tr th {\n",
       "        vertical-align: top;\n",
       "    }\n",
       "\n",
       "    .dataframe thead th {\n",
       "        text-align: right;\n",
       "    }\n",
       "</style>\n",
       "<table border=\"1\" class=\"dataframe\">\n",
       "  <thead>\n",
       "    <tr style=\"text-align: right;\">\n",
       "      <th></th>\n",
       "      <th>Category</th>\n",
       "      <th>Size</th>\n",
       "      <th>Installs</th>\n",
       "      <th>Price</th>\n",
       "      <th>Content Rating</th>\n",
       "      <th>year</th>\n",
       "      <th>Score</th>\n",
       "    </tr>\n",
       "  </thead>\n",
       "  <tbody>\n",
       "    <tr>\n",
       "      <th>11781</th>\n",
       "      <td>ART_AND_DESIGN</td>\n",
       "      <td>40000.0</td>\n",
       "      <td>100000000</td>\n",
       "      <td>0.0</td>\n",
       "      <td>Everyone</td>\n",
       "      <td>2020</td>\n",
       "      <td>76.611961</td>\n",
       "    </tr>\n",
       "    <tr>\n",
       "      <th>11782</th>\n",
       "      <td>ART_AND_DESIGN</td>\n",
       "      <td>90000.0</td>\n",
       "      <td>50000000</td>\n",
       "      <td>0.0</td>\n",
       "      <td>Everyone</td>\n",
       "      <td>2020</td>\n",
       "      <td>58.447184</td>\n",
       "    </tr>\n",
       "    <tr>\n",
       "      <th>11783</th>\n",
       "      <td>ART_AND_DESIGN</td>\n",
       "      <td>60000.0</td>\n",
       "      <td>10000000</td>\n",
       "      <td>0.0</td>\n",
       "      <td>Everyone</td>\n",
       "      <td>2020</td>\n",
       "      <td>57.738408</td>\n",
       "    </tr>\n",
       "    <tr>\n",
       "      <th>11784</th>\n",
       "      <td>ART_AND_DESIGN</td>\n",
       "      <td>70000.0</td>\n",
       "      <td>100000000</td>\n",
       "      <td>0.0</td>\n",
       "      <td>Everyone</td>\n",
       "      <td>2020</td>\n",
       "      <td>68.604967</td>\n",
       "    </tr>\n",
       "    <tr>\n",
       "      <th>11785</th>\n",
       "      <td>ART_AND_DESIGN</td>\n",
       "      <td>40000.0</td>\n",
       "      <td>5000000</td>\n",
       "      <td>0.0</td>\n",
       "      <td>Everyone</td>\n",
       "      <td>2020</td>\n",
       "      <td>49.505622</td>\n",
       "    </tr>\n",
       "  </tbody>\n",
       "</table>\n",
       "</div>"
      ]
     },
     "execution_count": 13,
     "metadata": {},
     "output_type": "execute_result"
    }
   ],
   "execution_count": 13
  },
  {
   "metadata": {
    "ExecuteTime": {
     "end_time": "2025-09-28T20:46:31.334774Z",
     "start_time": "2025-09-28T20:46:31.326963Z"
    }
   },
   "cell_type": "code",
   "source": "df.shape",
   "id": "2340c177049cbb6",
   "outputs": [
    {
     "data": {
      "text/plain": [
       "(11786, 7)"
      ]
     },
     "execution_count": 14,
     "metadata": {},
     "output_type": "execute_result"
    }
   ],
   "execution_count": 14
  },
  {
   "metadata": {
    "ExecuteTime": {
     "end_time": "2025-09-28T20:46:31.564215Z",
     "start_time": "2025-09-28T20:46:31.527118Z"
    }
   },
   "cell_type": "code",
   "source": "df.info()",
   "id": "6e56c4873dcc284c",
   "outputs": [
    {
     "name": "stdout",
     "output_type": "stream",
     "text": [
      "<class 'pandas.core.frame.DataFrame'>\n",
      "RangeIndex: 11786 entries, 0 to 11785\n",
      "Data columns (total 7 columns):\n",
      " #   Column          Non-Null Count  Dtype  \n",
      "---  ------          --------------  -----  \n",
      " 0   Category        11786 non-null  object \n",
      " 1   Size            11786 non-null  float64\n",
      " 2   Installs        11786 non-null  int64  \n",
      " 3   Price           11786 non-null  float64\n",
      " 4   Content Rating  11786 non-null  object \n",
      " 5   year            11786 non-null  int64  \n",
      " 6   Score           11786 non-null  float64\n",
      "dtypes: float64(3), int64(2), object(2)\n",
      "memory usage: 644.7+ KB\n"
     ]
    }
   ],
   "execution_count": 15
  },
  {
   "metadata": {},
   "cell_type": "markdown",
   "source": "**An app's Score (its weighted rating) is one of the most important factors related to its success. But it's not a cause of success that you can know beforehand; it is a result of success. Also only already realsed apps will have this info so the user will not be able to give this parameter.**",
   "id": "120a45ff11377d1a"
  },
  {
   "metadata": {
    "ExecuteTime": {
     "end_time": "2025-09-28T20:46:31.707917Z",
     "start_time": "2025-09-28T20:46:31.694950Z"
    }
   },
   "cell_type": "code",
   "source": "df.drop(axis=1, columns=[\"Score\"], inplace=True)",
   "id": "51f6274870a55e8e",
   "outputs": [],
   "execution_count": 16
  },
  {
   "metadata": {
    "ExecuteTime": {
     "end_time": "2025-09-28T20:46:31.772989Z",
     "start_time": "2025-09-28T20:46:31.753366Z"
    }
   },
   "cell_type": "code",
   "source": "df.head()",
   "id": "1f08ed9b2b7a6c24",
   "outputs": [
    {
     "data": {
      "text/plain": [
       "         Category     Size  Installs  Price Content Rating  year\n",
       "0  ART_AND_DESIGN  19000.0     10000    0.0       Everyone  2018\n",
       "1  ART_AND_DESIGN  14000.0    500000    0.0       Everyone  2018\n",
       "2  ART_AND_DESIGN   8700.0   5000000    0.0       Everyone  2018\n",
       "3  ART_AND_DESIGN  25000.0  50000000    0.0           Teen  2018\n",
       "4  ART_AND_DESIGN   2800.0    100000    0.0       Everyone  2018"
      ],
      "text/html": [
       "<div>\n",
       "<style scoped>\n",
       "    .dataframe tbody tr th:only-of-type {\n",
       "        vertical-align: middle;\n",
       "    }\n",
       "\n",
       "    .dataframe tbody tr th {\n",
       "        vertical-align: top;\n",
       "    }\n",
       "\n",
       "    .dataframe thead th {\n",
       "        text-align: right;\n",
       "    }\n",
       "</style>\n",
       "<table border=\"1\" class=\"dataframe\">\n",
       "  <thead>\n",
       "    <tr style=\"text-align: right;\">\n",
       "      <th></th>\n",
       "      <th>Category</th>\n",
       "      <th>Size</th>\n",
       "      <th>Installs</th>\n",
       "      <th>Price</th>\n",
       "      <th>Content Rating</th>\n",
       "      <th>year</th>\n",
       "    </tr>\n",
       "  </thead>\n",
       "  <tbody>\n",
       "    <tr>\n",
       "      <th>0</th>\n",
       "      <td>ART_AND_DESIGN</td>\n",
       "      <td>19000.0</td>\n",
       "      <td>10000</td>\n",
       "      <td>0.0</td>\n",
       "      <td>Everyone</td>\n",
       "      <td>2018</td>\n",
       "    </tr>\n",
       "    <tr>\n",
       "      <th>1</th>\n",
       "      <td>ART_AND_DESIGN</td>\n",
       "      <td>14000.0</td>\n",
       "      <td>500000</td>\n",
       "      <td>0.0</td>\n",
       "      <td>Everyone</td>\n",
       "      <td>2018</td>\n",
       "    </tr>\n",
       "    <tr>\n",
       "      <th>2</th>\n",
       "      <td>ART_AND_DESIGN</td>\n",
       "      <td>8700.0</td>\n",
       "      <td>5000000</td>\n",
       "      <td>0.0</td>\n",
       "      <td>Everyone</td>\n",
       "      <td>2018</td>\n",
       "    </tr>\n",
       "    <tr>\n",
       "      <th>3</th>\n",
       "      <td>ART_AND_DESIGN</td>\n",
       "      <td>25000.0</td>\n",
       "      <td>50000000</td>\n",
       "      <td>0.0</td>\n",
       "      <td>Teen</td>\n",
       "      <td>2018</td>\n",
       "    </tr>\n",
       "    <tr>\n",
       "      <th>4</th>\n",
       "      <td>ART_AND_DESIGN</td>\n",
       "      <td>2800.0</td>\n",
       "      <td>100000</td>\n",
       "      <td>0.0</td>\n",
       "      <td>Everyone</td>\n",
       "      <td>2018</td>\n",
       "    </tr>\n",
       "  </tbody>\n",
       "</table>\n",
       "</div>"
      ]
     },
     "execution_count": 17,
     "metadata": {},
     "output_type": "execute_result"
    }
   ],
   "execution_count": 17
  },
  {
   "metadata": {
    "ExecuteTime": {
     "end_time": "2025-09-28T20:46:31.947118Z",
     "start_time": "2025-09-28T20:46:31.885806Z"
    }
   },
   "cell_type": "code",
   "source": "df.to_csv(\"../data/playstore_partially_preprocessed.csv\", index=False)",
   "id": "b88b1a858bebc879",
   "outputs": [],
   "execution_count": 18
  },
  {
   "metadata": {
    "ExecuteTime": {
     "end_time": "2025-09-28T20:46:32.041693Z",
     "start_time": "2025-09-28T20:46:32.033843Z"
    }
   },
   "cell_type": "code",
   "source": "value_counts_category = df[\"Category\"].value_counts()",
   "id": "558dabbee31207d5",
   "outputs": [],
   "execution_count": 19
  },
  {
   "metadata": {},
   "cell_type": "markdown",
   "source": "Putting infrequent element to a single section others to reduce the number of unique elements elements in Category col to improve the training process of model when using OHE.,",
   "id": "9870c7e76c6e4140"
  },
  {
   "metadata": {
    "ExecuteTime": {
     "end_time": "2025-09-28T20:46:32.159490Z",
     "start_time": "2025-09-28T20:46:32.151828Z"
    }
   },
   "cell_type": "code",
   "source": "mask_for_infrequents = df[\"Category\"].map(value_counts_category) < 11",
   "id": "d57eefb09c3617ad",
   "outputs": [],
   "execution_count": 20
  },
  {
   "metadata": {
    "ExecuteTime": {
     "end_time": "2025-09-28T20:46:32.237301Z",
     "start_time": "2025-09-28T20:46:32.232139Z"
    }
   },
   "cell_type": "code",
   "source": "df.loc[mask_for_infrequents, \"Category\"] = \"OTHERS\"",
   "id": "d1e7742e20f127dc",
   "outputs": [],
   "execution_count": 21
  },
  {
   "metadata": {
    "ExecuteTime": {
     "end_time": "2025-09-28T20:46:32.298608Z",
     "start_time": "2025-09-28T20:46:32.284576Z"
    }
   },
   "cell_type": "code",
   "source": "df[\"Category\"].value_counts()",
   "id": "2e11af7a2cf091fd",
   "outputs": [
    {
     "data": {
      "text/plain": [
       "Category\n",
       "FAMILY                 1975\n",
       "GAME                   1144\n",
       "TOOLS                   913\n",
       "PRODUCTIVITY            521\n",
       "BUSINESS                467\n",
       "MEDICAL                 463\n",
       "COMMUNICATION           428\n",
       "PERSONALIZATION         406\n",
       "LIFESTYLE               391\n",
       "FINANCE                 391\n",
       "SPORTS                  387\n",
       "HEALTH_AND_FITNESS      370\n",
       "PHOTOGRAPHY             362\n",
       "SOCIAL                  329\n",
       "NEWS_AND_MAGAZINES      308\n",
       "SHOPPING                282\n",
       "TRAVEL_AND_LOCAL        277\n",
       "BOOKS_AND_REFERENCE     253\n",
       "DATING                  246\n",
       "VIDEO_PLAYERS           202\n",
       "ENTERTAINMENT           187\n",
       "EDUCATION               170\n",
       "MAPS_AND_NAVIGATION     146\n",
       "FOOD_AND_DRINK          146\n",
       "GAME_ACTION             105\n",
       "ART_AND_DESIGN           96\n",
       "HOUSE_AND_HOME           88\n",
       "LIBRARIES_AND_DEMO       86\n",
       "AUTO_AND_VEHICLES        85\n",
       "GAME_ROLE_PLAYING        82\n",
       "WEATHER                  82\n",
       "EVENTS                   64\n",
       "COMICS                   63\n",
       "PARENTING                60\n",
       "BEAUTY                   53\n",
       "MUSIC_AND_AUDIO          43\n",
       "OTHERS                   31\n",
       "GAME_ADVENTURE           31\n",
       "GAME_STRATEGY            27\n",
       "GAME_CARD                13\n",
       "GAME_SIMULATION          13\n",
       "Name: count, dtype: int64"
      ]
     },
     "execution_count": 22,
     "metadata": {},
     "output_type": "execute_result"
    }
   ],
   "execution_count": 22
  },
  {
   "metadata": {
    "ExecuteTime": {
     "end_time": "2025-09-28T20:46:32.420648Z",
     "start_time": "2025-09-28T20:46:32.409374Z"
    }
   },
   "cell_type": "code",
   "source": [
    "val_count_rating = df[\"Content Rating\"].value_counts()\n",
    "val_count_rating"
   ],
   "id": "78dbcee81a62f7af",
   "outputs": [
    {
     "data": {
      "text/plain": [
       "Content Rating\n",
       "Everyone           9199\n",
       "Teen               1528\n",
       "Mature 17+          613\n",
       "Everyone 10+        441\n",
       "Adults only 18+       3\n",
       "Unrated               2\n",
       "Name: count, dtype: int64"
      ]
     },
     "execution_count": 23,
     "metadata": {},
     "output_type": "execute_result"
    }
   ],
   "execution_count": 23
  },
  {
   "metadata": {
    "ExecuteTime": {
     "end_time": "2025-09-28T20:46:32.682214Z",
     "start_time": "2025-09-28T20:46:32.668222Z"
    }
   },
   "cell_type": "code",
   "source": [
    "mask_for_rating = df[\"Content Rating\"].map(val_count_rating) < 4\n",
    "df.loc[mask_for_rating, \"Content Rating\"] = \"Unrated\"\n",
    "df[\"Content Rating\"].value_counts()"
   ],
   "id": "6779e0dccbd0ddc1",
   "outputs": [
    {
     "data": {
      "text/plain": [
       "Content Rating\n",
       "Everyone        9199\n",
       "Teen            1528\n",
       "Mature 17+       613\n",
       "Everyone 10+     441\n",
       "Unrated            5\n",
       "Name: count, dtype: int64"
      ]
     },
     "execution_count": 24,
     "metadata": {},
     "output_type": "execute_result"
    }
   ],
   "execution_count": 24
  },
  {
   "metadata": {
    "ExecuteTime": {
     "end_time": "2025-09-28T20:46:32.906792Z",
     "start_time": "2025-09-28T20:46:32.900352Z"
    }
   },
   "cell_type": "code",
   "source": [
    "ord_encoder = OrdinalEncoder(categories=[[\"Everyone\", \"Everyone 10+\",\n",
    "                             \"Teen\", \"Mature 17+\", \"Unrated\"]], handle_unknown=\"use_encoded_value\", unknown_value=-1)\n",
    "oh_encoder = OneHotEncoder(sparse_output=False, handle_unknown=\"ignore\")"
   ],
   "id": "dcfa791ab9caeb00",
   "outputs": [],
   "execution_count": 25
  },
  {
   "metadata": {
    "ExecuteTime": {
     "end_time": "2025-09-28T20:46:33.062925Z",
     "start_time": "2025-09-28T20:46:33.056559Z"
    }
   },
   "cell_type": "code",
   "source": [
    "cat_transformer = ColumnTransformer(transformers=[\n",
    "     (\"ord\", ord_encoder, [\"Content Rating\"]),\n",
    "     (\"ohe\", oh_encoder, [\"Category\"])\n",
    "])"
   ],
   "id": "277e40f55f50b444",
   "outputs": [],
   "execution_count": 26
  },
  {
   "metadata": {
    "ExecuteTime": {
     "end_time": "2025-09-28T20:46:33.155447Z",
     "start_time": "2025-09-28T20:46:33.149458Z"
    }
   },
   "cell_type": "code",
   "source": [
    "random_forest_model = RandomForestRegressor(random_state=42)\n",
    "xgb_model = XGBRegressor(random_state=42, n_estimators=1000, learning_rate=0.05)"
   ],
   "id": "c964fe78491e748f",
   "outputs": [],
   "execution_count": 27
  },
  {
   "metadata": {
    "ExecuteTime": {
     "end_time": "2025-09-28T20:46:33.230518Z",
     "start_time": "2025-09-28T20:46:33.224649Z"
    }
   },
   "cell_type": "code",
   "source": [
    "pipeline_rf = Pipeline(steps=[\n",
    "    ('cat_preproc', cat_transformer),\n",
    "    ('model', random_forest_model)\n",
    "])\n",
    "\n",
    "pipeline_xgb = Pipeline(steps=[\n",
    "    ('cat_preproc', cat_transformer),\n",
    "    ('model', xgb_model)\n",
    "])"
   ],
   "id": "cddeaae5268d52df",
   "outputs": [],
   "execution_count": 28
  },
  {
   "metadata": {},
   "cell_type": "markdown",
   "source": "**log transformation is used with install because install falls into a very large and diverse range (skewed) so the model predicts relatively larger value for even very smaller ones as the larger numbers in the target predominates.**",
   "id": "e48a8c0d45e48443"
  },
  {
   "metadata": {
    "ExecuteTime": {
     "end_time": "2025-09-28T20:46:33.358408Z",
     "start_time": "2025-09-28T20:46:33.312558Z"
    }
   },
   "cell_type": "code",
   "source": [
    "X = df.drop(axis=1, columns=[\"Installs\"])\n",
    "y = df[\"Installs\"].map(np.log1p)"
   ],
   "id": "c28bce1f327b7f07",
   "outputs": [],
   "execution_count": 29
  },
  {
   "metadata": {
    "ExecuteTime": {
     "end_time": "2025-09-28T20:56:25.845092Z",
     "start_time": "2025-09-28T20:56:25.683214Z"
    }
   },
   "cell_type": "code",
   "source": [
    "scores_XGB = []\n",
    "best_iters = []\n",
    "for _ in range(5):\n",
    "    X_train, X_valid, y_train, y_valid = train_test_split(X, y, test_size=0.2, random_state=42)\n",
    "    pipeline_xgb.fit(X_train, y_train, model__eval_set=[(X_valid, y_valid)],\n",
    "                     model__early_stopping_rounds=5,\n",
    "                     model__verbose=False )\n",
    "    best_iters.append(pipeline_xgb.named_steps[\"model\"].best_iteration)\n",
    "    y_preds = pipeline_xgb.predict(X_valid)\n",
    "    rmse = np.sqrt(mean_squared_error(y_valid, y_preds))\n",
    "    scores_XGB.append(rmse)\n",
    "\n"
   ],
   "id": "aec2d18d43f2b092",
   "outputs": [
    {
     "ename": "TypeError",
     "evalue": "XGBModel.fit() got an unexpected keyword argument 'early_stopping_rounds'",
     "output_type": "error",
     "traceback": [
      "\u001B[31m---------------------------------------------------------------------------\u001B[39m",
      "\u001B[31mTypeError\u001B[39m                                 Traceback (most recent call last)",
      "\u001B[36mCell\u001B[39m\u001B[36m \u001B[39m\u001B[32mIn[32]\u001B[39m\u001B[32m, line 5\u001B[39m\n\u001B[32m      3\u001B[39m \u001B[38;5;28;01mfor\u001B[39;00m _ \u001B[38;5;129;01min\u001B[39;00m \u001B[38;5;28mrange\u001B[39m(\u001B[32m5\u001B[39m):\n\u001B[32m      4\u001B[39m     X_train, X_valid, y_train, y_valid = train_test_split(X, y, test_size=\u001B[32m0.2\u001B[39m, random_state=\u001B[32m42\u001B[39m)\n\u001B[32m----> \u001B[39m\u001B[32m5\u001B[39m     \u001B[43mpipeline_xgb\u001B[49m\u001B[43m.\u001B[49m\u001B[43mfit\u001B[49m\u001B[43m(\u001B[49m\u001B[43mX_train\u001B[49m\u001B[43m,\u001B[49m\u001B[43m \u001B[49m\u001B[43my_train\u001B[49m\u001B[43m,\u001B[49m\u001B[43m \u001B[49m\u001B[43mmodel__eval_set\u001B[49m\u001B[43m=\u001B[49m\u001B[43m[\u001B[49m\u001B[43m(\u001B[49m\u001B[43mX_valid\u001B[49m\u001B[43m,\u001B[49m\u001B[43m \u001B[49m\u001B[43my_valid\u001B[49m\u001B[43m)\u001B[49m\u001B[43m]\u001B[49m\u001B[43m,\u001B[49m\n\u001B[32m      6\u001B[39m \u001B[43m                     \u001B[49m\u001B[43mmodel__early_stopping_rounds\u001B[49m\u001B[43m=\u001B[49m\u001B[32;43m5\u001B[39;49m\u001B[43m,\u001B[49m\n\u001B[32m      7\u001B[39m \u001B[43m                     \u001B[49m\u001B[43mmodel__verbose\u001B[49m\u001B[43m=\u001B[49m\u001B[38;5;28;43;01mFalse\u001B[39;49;00m\u001B[43m \u001B[49m\u001B[43m)\u001B[49m\n\u001B[32m      8\u001B[39m     best_iters.append(pipeline_xgb.named_steps[\u001B[33m\"\u001B[39m\u001B[33mmodel\u001B[39m\u001B[33m\"\u001B[39m].best_iteration)\n\u001B[32m      9\u001B[39m     y_preds = pipeline_xgb.predict(X_valid)\n",
      "\u001B[36mFile \u001B[39m\u001B[32m~\\PycharmProjects\\APP SUCCESS PREDICTOR\\.venv\\Lib\\site-packages\\sklearn\\base.py:1365\u001B[39m, in \u001B[36m_fit_context.<locals>.decorator.<locals>.wrapper\u001B[39m\u001B[34m(estimator, *args, **kwargs)\u001B[39m\n\u001B[32m   1358\u001B[39m     estimator._validate_params()\n\u001B[32m   1360\u001B[39m \u001B[38;5;28;01mwith\u001B[39;00m config_context(\n\u001B[32m   1361\u001B[39m     skip_parameter_validation=(\n\u001B[32m   1362\u001B[39m         prefer_skip_nested_validation \u001B[38;5;129;01mor\u001B[39;00m global_skip_validation\n\u001B[32m   1363\u001B[39m     )\n\u001B[32m   1364\u001B[39m ):\n\u001B[32m-> \u001B[39m\u001B[32m1365\u001B[39m     \u001B[38;5;28;01mreturn\u001B[39;00m \u001B[43mfit_method\u001B[49m\u001B[43m(\u001B[49m\u001B[43mestimator\u001B[49m\u001B[43m,\u001B[49m\u001B[43m \u001B[49m\u001B[43m*\u001B[49m\u001B[43margs\u001B[49m\u001B[43m,\u001B[49m\u001B[43m \u001B[49m\u001B[43m*\u001B[49m\u001B[43m*\u001B[49m\u001B[43mkwargs\u001B[49m\u001B[43m)\u001B[49m\n",
      "\u001B[36mFile \u001B[39m\u001B[32m~\\PycharmProjects\\APP SUCCESS PREDICTOR\\.venv\\Lib\\site-packages\\sklearn\\pipeline.py:663\u001B[39m, in \u001B[36mPipeline.fit\u001B[39m\u001B[34m(self, X, y, **params)\u001B[39m\n\u001B[32m    657\u001B[39m     \u001B[38;5;28;01mif\u001B[39;00m \u001B[38;5;28mself\u001B[39m._final_estimator != \u001B[33m\"\u001B[39m\u001B[33mpassthrough\u001B[39m\u001B[33m\"\u001B[39m:\n\u001B[32m    658\u001B[39m         last_step_params = \u001B[38;5;28mself\u001B[39m._get_metadata_for_step(\n\u001B[32m    659\u001B[39m             step_idx=\u001B[38;5;28mlen\u001B[39m(\u001B[38;5;28mself\u001B[39m) - \u001B[32m1\u001B[39m,\n\u001B[32m    660\u001B[39m             step_params=routed_params[\u001B[38;5;28mself\u001B[39m.steps[-\u001B[32m1\u001B[39m][\u001B[32m0\u001B[39m]],\n\u001B[32m    661\u001B[39m             all_params=params,\n\u001B[32m    662\u001B[39m         )\n\u001B[32m--> \u001B[39m\u001B[32m663\u001B[39m         \u001B[38;5;28;43mself\u001B[39;49m\u001B[43m.\u001B[49m\u001B[43m_final_estimator\u001B[49m\u001B[43m.\u001B[49m\u001B[43mfit\u001B[49m\u001B[43m(\u001B[49m\u001B[43mXt\u001B[49m\u001B[43m,\u001B[49m\u001B[43m \u001B[49m\u001B[43my\u001B[49m\u001B[43m,\u001B[49m\u001B[43m \u001B[49m\u001B[43m*\u001B[49m\u001B[43m*\u001B[49m\u001B[43mlast_step_params\u001B[49m\u001B[43m[\u001B[49m\u001B[33;43m\"\u001B[39;49m\u001B[33;43mfit\u001B[39;49m\u001B[33;43m\"\u001B[39;49m\u001B[43m]\u001B[49m\u001B[43m)\u001B[49m\n\u001B[32m    665\u001B[39m \u001B[38;5;28;01mreturn\u001B[39;00m \u001B[38;5;28mself\u001B[39m\n",
      "\u001B[36mFile \u001B[39m\u001B[32m~\\PycharmProjects\\APP SUCCESS PREDICTOR\\.venv\\Lib\\site-packages\\xgboost\\core.py:729\u001B[39m, in \u001B[36mrequire_keyword_args.<locals>.throw_if.<locals>.inner_f\u001B[39m\u001B[34m(*args, **kwargs)\u001B[39m\n\u001B[32m    727\u001B[39m \u001B[38;5;28;01mfor\u001B[39;00m k, arg \u001B[38;5;129;01min\u001B[39;00m \u001B[38;5;28mzip\u001B[39m(sig.parameters, args):\n\u001B[32m    728\u001B[39m     kwargs[k] = arg\n\u001B[32m--> \u001B[39m\u001B[32m729\u001B[39m \u001B[38;5;28;01mreturn\u001B[39;00m \u001B[43mfunc\u001B[49m\u001B[43m(\u001B[49m\u001B[43m*\u001B[49m\u001B[43m*\u001B[49m\u001B[43mkwargs\u001B[49m\u001B[43m)\u001B[49m\n",
      "\u001B[31mTypeError\u001B[39m: XGBModel.fit() got an unexpected keyword argument 'early_stopping_rounds'"
     ]
    }
   ],
   "execution_count": 32
  },
  {
   "metadata": {
    "ExecuteTime": {
     "end_time": "2025-09-28T20:46:33.736383300Z",
     "start_time": "2025-09-28T11:38:08.421901Z"
    }
   },
   "cell_type": "code",
   "source": [
    "kf = KFold(n_splits=5, shuffle=True, random_state=42)\n",
    "scores_rf = -1 * cross_val_score(pipeline_rf, X, y, cv=kf, scoring='neg_root_mean_squared_error')\n",
    "scores_xgb = -1 * cross_val_score(pipeline_xgb, X, y, cv=kf, scoring='neg_root_mean_squared_error')\n",
    "print(f\"SCORES:\\n\"\n",
    "      f\"RandomForest: {scores_rf}\\n\"\n",
    "      f\"XGBoost: {scores_xgb}\\n\"\n",
    "      f\"Mean RandomForest: {scores_rf.mean()}\\n\"\n",
    "      f\"Mean XGBoost: {scores_xgb.mean()}\\n\")"
   ],
   "id": "b90c7107e0d0cd8f",
   "outputs": [
    {
     "name": "stdout",
     "output_type": "stream",
     "text": [
      "SCORES:\n",
      "RandomForest: [4.23573025 4.2128512  4.17147608 4.13006015 4.21885539]\n",
      "XGBoost: [4.2372487  4.21052591 4.17606342 4.12918141 4.22188216]\n",
      "Mean RandomForest: 4.193794614902709\n",
      "Mean XGBoost: 4.194980319457544\n",
      "\n"
     ]
    }
   ],
   "execution_count": 58
  },
  {
   "metadata": {},
   "cell_type": "code",
   "outputs": [],
   "execution_count": null,
   "source": "",
   "id": "6e9f7b999022509"
  }
 ],
 "metadata": {
  "kernelspec": {
   "display_name": "Python 3",
   "language": "python",
   "name": "python3"
  },
  "language_info": {
   "codemirror_mode": {
    "name": "ipython",
    "version": 2
   },
   "file_extension": ".py",
   "mimetype": "text/x-python",
   "name": "python",
   "nbconvert_exporter": "python",
   "pygments_lexer": "ipython2",
   "version": "2.7.6"
  }
 },
 "nbformat": 4,
 "nbformat_minor": 5
}
