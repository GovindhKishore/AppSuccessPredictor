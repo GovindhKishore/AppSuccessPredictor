{
 "cells": [
  {
   "metadata": {
    "ExecuteTime": {
     "end_time": "2025-10-11T18:09:39.240204Z",
     "start_time": "2025-10-11T18:09:38.839297Z"
    }
   },
   "cell_type": "code",
   "source": "import pandas as pd",
   "id": "7adc3fecf97ac431",
   "outputs": [],
   "execution_count": 1
  },
  {
   "metadata": {
    "ExecuteTime": {
     "end_time": "2025-10-11T18:09:39.323660Z",
     "start_time": "2025-10-11T18:09:39.285060Z"
    }
   },
   "cell_type": "code",
   "source": "df = pd.read_csv('../data/preprocessed_data.csv')",
   "id": "95e7f43ad3c21952",
   "outputs": [],
   "execution_count": 2
  },
  {
   "metadata": {
    "ExecuteTime": {
     "end_time": "2025-10-11T18:09:39.985232Z",
     "start_time": "2025-10-11T18:09:39.964952Z"
    }
   },
   "cell_type": "code",
   "source": "df.head()",
   "id": "105ec660990edc59",
   "outputs": [
    {
     "data": {
      "text/plain": [
       "         Category     Size  Installs  Price Content Rating  year\n",
       "0  ART_AND_DESIGN  19000.0     10000    0.0       Everyone  2018\n",
       "1  ART_AND_DESIGN  14000.0    500000    0.0       Everyone  2018\n",
       "2  ART_AND_DESIGN   8700.0   5000000    0.0       Everyone  2018\n",
       "3  ART_AND_DESIGN  25000.0  50000000    0.0           Teen  2018\n",
       "4  ART_AND_DESIGN   2800.0    100000    0.0       Everyone  2018"
      ],
      "text/html": [
       "<div>\n",
       "<style scoped>\n",
       "    .dataframe tbody tr th:only-of-type {\n",
       "        vertical-align: middle;\n",
       "    }\n",
       "\n",
       "    .dataframe tbody tr th {\n",
       "        vertical-align: top;\n",
       "    }\n",
       "\n",
       "    .dataframe thead th {\n",
       "        text-align: right;\n",
       "    }\n",
       "</style>\n",
       "<table border=\"1\" class=\"dataframe\">\n",
       "  <thead>\n",
       "    <tr style=\"text-align: right;\">\n",
       "      <th></th>\n",
       "      <th>Category</th>\n",
       "      <th>Size</th>\n",
       "      <th>Installs</th>\n",
       "      <th>Price</th>\n",
       "      <th>Content Rating</th>\n",
       "      <th>year</th>\n",
       "    </tr>\n",
       "  </thead>\n",
       "  <tbody>\n",
       "    <tr>\n",
       "      <th>0</th>\n",
       "      <td>ART_AND_DESIGN</td>\n",
       "      <td>19000.0</td>\n",
       "      <td>10000</td>\n",
       "      <td>0.0</td>\n",
       "      <td>Everyone</td>\n",
       "      <td>2018</td>\n",
       "    </tr>\n",
       "    <tr>\n",
       "      <th>1</th>\n",
       "      <td>ART_AND_DESIGN</td>\n",
       "      <td>14000.0</td>\n",
       "      <td>500000</td>\n",
       "      <td>0.0</td>\n",
       "      <td>Everyone</td>\n",
       "      <td>2018</td>\n",
       "    </tr>\n",
       "    <tr>\n",
       "      <th>2</th>\n",
       "      <td>ART_AND_DESIGN</td>\n",
       "      <td>8700.0</td>\n",
       "      <td>5000000</td>\n",
       "      <td>0.0</td>\n",
       "      <td>Everyone</td>\n",
       "      <td>2018</td>\n",
       "    </tr>\n",
       "    <tr>\n",
       "      <th>3</th>\n",
       "      <td>ART_AND_DESIGN</td>\n",
       "      <td>25000.0</td>\n",
       "      <td>50000000</td>\n",
       "      <td>0.0</td>\n",
       "      <td>Teen</td>\n",
       "      <td>2018</td>\n",
       "    </tr>\n",
       "    <tr>\n",
       "      <th>4</th>\n",
       "      <td>ART_AND_DESIGN</td>\n",
       "      <td>2800.0</td>\n",
       "      <td>100000</td>\n",
       "      <td>0.0</td>\n",
       "      <td>Everyone</td>\n",
       "      <td>2018</td>\n",
       "    </tr>\n",
       "  </tbody>\n",
       "</table>\n",
       "</div>"
      ]
     },
     "execution_count": 3,
     "metadata": {},
     "output_type": "execute_result"
    }
   ],
   "execution_count": 3
  },
  {
   "metadata": {
    "ExecuteTime": {
     "end_time": "2025-10-11T18:09:40.295807Z",
     "start_time": "2025-10-11T18:09:40.289059Z"
    }
   },
   "cell_type": "code",
   "source": "df.shape",
   "id": "41cae2870938526e",
   "outputs": [
    {
     "data": {
      "text/plain": [
       "(11786, 6)"
      ]
     },
     "execution_count": 4,
     "metadata": {},
     "output_type": "execute_result"
    }
   ],
   "execution_count": 4
  },
  {
   "metadata": {
    "ExecuteTime": {
     "end_time": "2025-10-11T18:09:40.653879Z",
     "start_time": "2025-10-11T18:09:40.632097Z"
    }
   },
   "cell_type": "code",
   "source": "df.info()",
   "id": "cfaebfdfe8694c07",
   "outputs": [
    {
     "name": "stdout",
     "output_type": "stream",
     "text": [
      "<class 'pandas.core.frame.DataFrame'>\n",
      "RangeIndex: 11786 entries, 0 to 11785\n",
      "Data columns (total 6 columns):\n",
      " #   Column          Non-Null Count  Dtype  \n",
      "---  ------          --------------  -----  \n",
      " 0   Category        11786 non-null  object \n",
      " 1   Size            11786 non-null  float64\n",
      " 2   Installs        11786 non-null  int64  \n",
      " 3   Price           11786 non-null  float64\n",
      " 4   Content Rating  11786 non-null  object \n",
      " 5   year            11786 non-null  int64  \n",
      "dtypes: float64(2), int64(2), object(2)\n",
      "memory usage: 552.6+ KB\n"
     ]
    }
   ],
   "execution_count": 5
  },
  {
   "metadata": {
    "ExecuteTime": {
     "end_time": "2025-10-11T18:09:40.783727Z",
     "start_time": "2025-10-11T18:09:40.778150Z"
    }
   },
   "cell_type": "code",
   "source": "df.columns",
   "id": "ac3e19d2dc025b76",
   "outputs": [
    {
     "data": {
      "text/plain": [
       "Index(['Category', 'Size', 'Installs', 'Price', 'Content Rating', 'year'], dtype='object')"
      ]
     },
     "execution_count": 6,
     "metadata": {},
     "output_type": "execute_result"
    }
   ],
   "execution_count": 6
  },
  {
   "metadata": {
    "ExecuteTime": {
     "end_time": "2025-10-11T18:09:41.952523Z",
     "start_time": "2025-10-11T18:09:40.915556Z"
    }
   },
   "cell_type": "code",
   "source": "df[[\"Category\", \"Genres\", \"Type\"]]",
   "id": "9fe6bc947a63b596",
   "outputs": [
    {
     "ename": "KeyError",
     "evalue": "\"['Genres', 'Type'] not in index\"",
     "output_type": "error",
     "traceback": [
      "\u001B[31m---------------------------------------------------------------------------\u001B[39m",
      "\u001B[31mKeyError\u001B[39m                                  Traceback (most recent call last)",
      "\u001B[36mCell\u001B[39m\u001B[36m \u001B[39m\u001B[32mIn[7]\u001B[39m\u001B[32m, line 1\u001B[39m\n\u001B[32m----> \u001B[39m\u001B[32m1\u001B[39m \u001B[43mdf\u001B[49m\u001B[43m[\u001B[49m\u001B[43m[\u001B[49m\u001B[33;43m\"\u001B[39;49m\u001B[33;43mCategory\u001B[39;49m\u001B[33;43m\"\u001B[39;49m\u001B[43m,\u001B[49m\u001B[43m \u001B[49m\u001B[33;43m\"\u001B[39;49m\u001B[33;43mGenres\u001B[39;49m\u001B[33;43m\"\u001B[39;49m\u001B[43m,\u001B[49m\u001B[43m \u001B[49m\u001B[33;43m\"\u001B[39;49m\u001B[33;43mType\u001B[39;49m\u001B[33;43m\"\u001B[39;49m\u001B[43m]\u001B[49m\u001B[43m]\u001B[49m\n",
      "\u001B[36mFile \u001B[39m\u001B[32m~\\PycharmProjects\\APP SUCCESS PREDICTOR\\.venv\\Lib\\site-packages\\pandas\\core\\frame.py:4113\u001B[39m, in \u001B[36mDataFrame.__getitem__\u001B[39m\u001B[34m(self, key)\u001B[39m\n\u001B[32m   4111\u001B[39m     \u001B[38;5;28;01mif\u001B[39;00m is_iterator(key):\n\u001B[32m   4112\u001B[39m         key = \u001B[38;5;28mlist\u001B[39m(key)\n\u001B[32m-> \u001B[39m\u001B[32m4113\u001B[39m     indexer = \u001B[38;5;28;43mself\u001B[39;49m\u001B[43m.\u001B[49m\u001B[43mcolumns\u001B[49m\u001B[43m.\u001B[49m\u001B[43m_get_indexer_strict\u001B[49m\u001B[43m(\u001B[49m\u001B[43mkey\u001B[49m\u001B[43m,\u001B[49m\u001B[43m \u001B[49m\u001B[33;43m\"\u001B[39;49m\u001B[33;43mcolumns\u001B[39;49m\u001B[33;43m\"\u001B[39;49m\u001B[43m)\u001B[49m[\u001B[32m1\u001B[39m]\n\u001B[32m   4115\u001B[39m \u001B[38;5;66;03m# take() does not accept boolean indexers\u001B[39;00m\n\u001B[32m   4116\u001B[39m \u001B[38;5;28;01mif\u001B[39;00m \u001B[38;5;28mgetattr\u001B[39m(indexer, \u001B[33m\"\u001B[39m\u001B[33mdtype\u001B[39m\u001B[33m\"\u001B[39m, \u001B[38;5;28;01mNone\u001B[39;00m) == \u001B[38;5;28mbool\u001B[39m:\n",
      "\u001B[36mFile \u001B[39m\u001B[32m~\\PycharmProjects\\APP SUCCESS PREDICTOR\\.venv\\Lib\\site-packages\\pandas\\core\\indexes\\base.py:6212\u001B[39m, in \u001B[36mIndex._get_indexer_strict\u001B[39m\u001B[34m(self, key, axis_name)\u001B[39m\n\u001B[32m   6209\u001B[39m \u001B[38;5;28;01melse\u001B[39;00m:\n\u001B[32m   6210\u001B[39m     keyarr, indexer, new_indexer = \u001B[38;5;28mself\u001B[39m._reindex_non_unique(keyarr)\n\u001B[32m-> \u001B[39m\u001B[32m6212\u001B[39m \u001B[38;5;28;43mself\u001B[39;49m\u001B[43m.\u001B[49m\u001B[43m_raise_if_missing\u001B[49m\u001B[43m(\u001B[49m\u001B[43mkeyarr\u001B[49m\u001B[43m,\u001B[49m\u001B[43m \u001B[49m\u001B[43mindexer\u001B[49m\u001B[43m,\u001B[49m\u001B[43m \u001B[49m\u001B[43maxis_name\u001B[49m\u001B[43m)\u001B[49m\n\u001B[32m   6214\u001B[39m keyarr = \u001B[38;5;28mself\u001B[39m.take(indexer)\n\u001B[32m   6215\u001B[39m \u001B[38;5;28;01mif\u001B[39;00m \u001B[38;5;28misinstance\u001B[39m(key, Index):\n\u001B[32m   6216\u001B[39m     \u001B[38;5;66;03m# GH 42790 - Preserve name from an Index\u001B[39;00m\n",
      "\u001B[36mFile \u001B[39m\u001B[32m~\\PycharmProjects\\APP SUCCESS PREDICTOR\\.venv\\Lib\\site-packages\\pandas\\core\\indexes\\base.py:6264\u001B[39m, in \u001B[36mIndex._raise_if_missing\u001B[39m\u001B[34m(self, key, indexer, axis_name)\u001B[39m\n\u001B[32m   6261\u001B[39m     \u001B[38;5;28;01mraise\u001B[39;00m \u001B[38;5;167;01mKeyError\u001B[39;00m(\u001B[33mf\u001B[39m\u001B[33m\"\u001B[39m\u001B[33mNone of [\u001B[39m\u001B[38;5;132;01m{\u001B[39;00mkey\u001B[38;5;132;01m}\u001B[39;00m\u001B[33m] are in the [\u001B[39m\u001B[38;5;132;01m{\u001B[39;00maxis_name\u001B[38;5;132;01m}\u001B[39;00m\u001B[33m]\u001B[39m\u001B[33m\"\u001B[39m)\n\u001B[32m   6263\u001B[39m not_found = \u001B[38;5;28mlist\u001B[39m(ensure_index(key)[missing_mask.nonzero()[\u001B[32m0\u001B[39m]].unique())\n\u001B[32m-> \u001B[39m\u001B[32m6264\u001B[39m \u001B[38;5;28;01mraise\u001B[39;00m \u001B[38;5;167;01mKeyError\u001B[39;00m(\u001B[33mf\u001B[39m\u001B[33m\"\u001B[39m\u001B[38;5;132;01m{\u001B[39;00mnot_found\u001B[38;5;132;01m}\u001B[39;00m\u001B[33m not in index\u001B[39m\u001B[33m\"\u001B[39m)\n",
      "\u001B[31mKeyError\u001B[39m: \"['Genres', 'Type'] not in index\""
     ]
    }
   ],
   "execution_count": 7
  },
  {
   "metadata": {
    "ExecuteTime": {
     "end_time": "2025-10-11T18:09:57.016878Z",
     "start_time": "2025-10-11T18:09:57.001893Z"
    }
   },
   "cell_type": "code",
   "source": "df",
   "id": "49e3cf38b6274e7c",
   "outputs": [
    {
     "data": {
      "text/plain": [
       "             Category     Size   Installs  Price Content Rating  year\n",
       "0      ART_AND_DESIGN  19000.0      10000    0.0       Everyone  2018\n",
       "1      ART_AND_DESIGN  14000.0     500000    0.0       Everyone  2018\n",
       "2      ART_AND_DESIGN   8700.0    5000000    0.0       Everyone  2018\n",
       "3      ART_AND_DESIGN  25000.0   50000000    0.0           Teen  2018\n",
       "4      ART_AND_DESIGN   2800.0     100000    0.0       Everyone  2018\n",
       "...               ...      ...        ...    ...            ...   ...\n",
       "11781  ART_AND_DESIGN  40000.0  100000000    0.0       Everyone  2020\n",
       "11782  ART_AND_DESIGN  90000.0   50000000    0.0       Everyone  2020\n",
       "11783  ART_AND_DESIGN  60000.0   10000000    0.0       Everyone  2020\n",
       "11784  ART_AND_DESIGN  70000.0  100000000    0.0       Everyone  2020\n",
       "11785  ART_AND_DESIGN  40000.0    5000000    0.0       Everyone  2020\n",
       "\n",
       "[11786 rows x 6 columns]"
      ],
      "text/html": [
       "<div>\n",
       "<style scoped>\n",
       "    .dataframe tbody tr th:only-of-type {\n",
       "        vertical-align: middle;\n",
       "    }\n",
       "\n",
       "    .dataframe tbody tr th {\n",
       "        vertical-align: top;\n",
       "    }\n",
       "\n",
       "    .dataframe thead th {\n",
       "        text-align: right;\n",
       "    }\n",
       "</style>\n",
       "<table border=\"1\" class=\"dataframe\">\n",
       "  <thead>\n",
       "    <tr style=\"text-align: right;\">\n",
       "      <th></th>\n",
       "      <th>Category</th>\n",
       "      <th>Size</th>\n",
       "      <th>Installs</th>\n",
       "      <th>Price</th>\n",
       "      <th>Content Rating</th>\n",
       "      <th>year</th>\n",
       "    </tr>\n",
       "  </thead>\n",
       "  <tbody>\n",
       "    <tr>\n",
       "      <th>0</th>\n",
       "      <td>ART_AND_DESIGN</td>\n",
       "      <td>19000.0</td>\n",
       "      <td>10000</td>\n",
       "      <td>0.0</td>\n",
       "      <td>Everyone</td>\n",
       "      <td>2018</td>\n",
       "    </tr>\n",
       "    <tr>\n",
       "      <th>1</th>\n",
       "      <td>ART_AND_DESIGN</td>\n",
       "      <td>14000.0</td>\n",
       "      <td>500000</td>\n",
       "      <td>0.0</td>\n",
       "      <td>Everyone</td>\n",
       "      <td>2018</td>\n",
       "    </tr>\n",
       "    <tr>\n",
       "      <th>2</th>\n",
       "      <td>ART_AND_DESIGN</td>\n",
       "      <td>8700.0</td>\n",
       "      <td>5000000</td>\n",
       "      <td>0.0</td>\n",
       "      <td>Everyone</td>\n",
       "      <td>2018</td>\n",
       "    </tr>\n",
       "    <tr>\n",
       "      <th>3</th>\n",
       "      <td>ART_AND_DESIGN</td>\n",
       "      <td>25000.0</td>\n",
       "      <td>50000000</td>\n",
       "      <td>0.0</td>\n",
       "      <td>Teen</td>\n",
       "      <td>2018</td>\n",
       "    </tr>\n",
       "    <tr>\n",
       "      <th>4</th>\n",
       "      <td>ART_AND_DESIGN</td>\n",
       "      <td>2800.0</td>\n",
       "      <td>100000</td>\n",
       "      <td>0.0</td>\n",
       "      <td>Everyone</td>\n",
       "      <td>2018</td>\n",
       "    </tr>\n",
       "    <tr>\n",
       "      <th>...</th>\n",
       "      <td>...</td>\n",
       "      <td>...</td>\n",
       "      <td>...</td>\n",
       "      <td>...</td>\n",
       "      <td>...</td>\n",
       "      <td>...</td>\n",
       "    </tr>\n",
       "    <tr>\n",
       "      <th>11781</th>\n",
       "      <td>ART_AND_DESIGN</td>\n",
       "      <td>40000.0</td>\n",
       "      <td>100000000</td>\n",
       "      <td>0.0</td>\n",
       "      <td>Everyone</td>\n",
       "      <td>2020</td>\n",
       "    </tr>\n",
       "    <tr>\n",
       "      <th>11782</th>\n",
       "      <td>ART_AND_DESIGN</td>\n",
       "      <td>90000.0</td>\n",
       "      <td>50000000</td>\n",
       "      <td>0.0</td>\n",
       "      <td>Everyone</td>\n",
       "      <td>2020</td>\n",
       "    </tr>\n",
       "    <tr>\n",
       "      <th>11783</th>\n",
       "      <td>ART_AND_DESIGN</td>\n",
       "      <td>60000.0</td>\n",
       "      <td>10000000</td>\n",
       "      <td>0.0</td>\n",
       "      <td>Everyone</td>\n",
       "      <td>2020</td>\n",
       "    </tr>\n",
       "    <tr>\n",
       "      <th>11784</th>\n",
       "      <td>ART_AND_DESIGN</td>\n",
       "      <td>70000.0</td>\n",
       "      <td>100000000</td>\n",
       "      <td>0.0</td>\n",
       "      <td>Everyone</td>\n",
       "      <td>2020</td>\n",
       "    </tr>\n",
       "    <tr>\n",
       "      <th>11785</th>\n",
       "      <td>ART_AND_DESIGN</td>\n",
       "      <td>40000.0</td>\n",
       "      <td>5000000</td>\n",
       "      <td>0.0</td>\n",
       "      <td>Everyone</td>\n",
       "      <td>2020</td>\n",
       "    </tr>\n",
       "  </tbody>\n",
       "</table>\n",
       "<p>11786 rows × 6 columns</p>\n",
       "</div>"
      ]
     },
     "execution_count": 8,
     "metadata": {},
     "output_type": "execute_result"
    }
   ],
   "execution_count": 8
  },
  {
   "metadata": {
    "ExecuteTime": {
     "end_time": "2025-10-11T18:09:59.901383Z",
     "start_time": "2025-10-11T18:09:59.869217Z"
    }
   },
   "cell_type": "code",
   "source": "df.Category.value_counts()",
   "id": "360f1413cc47f133",
   "outputs": [
    {
     "data": {
      "text/plain": [
       "Category\n",
       "FAMILY                 1975\n",
       "GAME                   1144\n",
       "TOOLS                   913\n",
       "PRODUCTIVITY            521\n",
       "BUSINESS                467\n",
       "MEDICAL                 463\n",
       "COMMUNICATION           428\n",
       "PERSONALIZATION         406\n",
       "LIFESTYLE               391\n",
       "FINANCE                 391\n",
       "SPORTS                  387\n",
       "HEALTH_AND_FITNESS      370\n",
       "PHOTOGRAPHY             362\n",
       "SOCIAL                  329\n",
       "NEWS_AND_MAGAZINES      308\n",
       "SHOPPING                282\n",
       "TRAVEL_AND_LOCAL        277\n",
       "BOOKS_AND_REFERENCE     253\n",
       "DATING                  246\n",
       "VIDEO_PLAYERS           202\n",
       "ENTERTAINMENT           187\n",
       "EDUCATION               170\n",
       "FOOD_AND_DRINK          146\n",
       "MAPS_AND_NAVIGATION     146\n",
       "GAME_ACTION             105\n",
       "ART_AND_DESIGN           96\n",
       "HOUSE_AND_HOME           88\n",
       "LIBRARIES_AND_DEMO       86\n",
       "AUTO_AND_VEHICLES        85\n",
       "GAME_ROLE_PLAYING        82\n",
       "WEATHER                  82\n",
       "EVENTS                   64\n",
       "COMICS                   63\n",
       "PARENTING                60\n",
       "BEAUTY                   53\n",
       "MUSIC_AND_AUDIO          43\n",
       "GAME_ADVENTURE           31\n",
       "GAME_STRATEGY            27\n",
       "GAME_CARD                13\n",
       "GAME_SIMULATION          13\n",
       "GAME_SPORTS              10\n",
       "GAME_PUZZLE               7\n",
       "GAME_BOARD                5\n",
       "GAME_RACING               4\n",
       "GAME_MUSIC                2\n",
       "GAME_WORD                 2\n",
       "PHOTO_AND_VIDEO           1\n",
       "Name: count, dtype: int64"
      ]
     },
     "execution_count": 9,
     "metadata": {},
     "output_type": "execute_result"
    }
   ],
   "execution_count": 9
  },
  {
   "metadata": {
    "ExecuteTime": {
     "end_time": "2025-10-11T18:09:42.036625700Z",
     "start_time": "2025-09-25T18:07:26.685117Z"
    }
   },
   "cell_type": "code",
   "source": "df.Category.value_counts().shape",
   "id": "60f145810c1572da",
   "outputs": [
    {
     "data": {
      "text/plain": [
       "(33,)"
      ]
     },
     "execution_count": 12,
     "metadata": {},
     "output_type": "execute_result"
    }
   ],
   "execution_count": 12
  },
  {
   "metadata": {
    "ExecuteTime": {
     "end_time": "2025-10-11T18:09:42.062861600Z",
     "start_time": "2025-09-25T18:48:48.705022Z"
    }
   },
   "cell_type": "code",
   "source": "df.loc[df.year >= 2018]",
   "id": "e05054b2bda9689c",
   "outputs": [
    {
     "data": {
      "text/plain": [
       "       Unnamed: 0                                                App  \\\n",
       "0               0     Photo Editor & Candy Camera & Grid & ScrapBook   \n",
       "1               1                                Coloring book moana   \n",
       "2               2  U Launcher Lite – FREE Live Cool Themes, Hide ...   \n",
       "3               3                              Sketch - Draw & Paint   \n",
       "4               4              Pixel Draw - Number Art Coloring Book   \n",
       "...           ...                                                ...   \n",
       "10825       10826          Frim: get new friends on local chat rooms   \n",
       "10826       10827                                 Fr Agnel Ambarnath   \n",
       "10830       10831                           payermonstationnement.fr   \n",
       "10836       10837                   Fr. Mike Schmitz Audio Teachings   \n",
       "10839       10840      iHoroscope - 2018 Daily Horoscope & Astrology   \n",
       "\n",
       "                  Category    Rating  Reviews          Size  Installs  Type  \\\n",
       "0           ART_AND_DESIGN  4.100000      159  19000.000000     10000  Free   \n",
       "1           ART_AND_DESIGN  3.900000      967  14000.000000    500000  Free   \n",
       "2           ART_AND_DESIGN  4.700000    87510   8700.000000   5000000  Free   \n",
       "3           ART_AND_DESIGN  4.500000   215644  25000.000000  50000000  Free   \n",
       "4           ART_AND_DESIGN  4.300000      967   2800.000000    100000  Free   \n",
       "...                    ...       ...      ...           ...       ...   ...   \n",
       "10825               SOCIAL  4.000000    88486  22270.540265   5000000  Free   \n",
       "10826               FAMILY  4.200000      117  13000.000000      5000  Free   \n",
       "10830  MAPS_AND_NAVIGATION  4.191757       38   9800.000000      5000  Free   \n",
       "10836               FAMILY  5.000000        4   3600.000000       100  Free   \n",
       "10839            LIFESTYLE  4.500000   398307  19000.000000  10000000  Free   \n",
       "\n",
       "       Price Content Rating                     Genres         Current Ver  \\\n",
       "0        0.0       Everyone               Art & Design               1.0.0   \n",
       "1        0.0       Everyone  Art & Design;Pretend Play               2.0.0   \n",
       "2        0.0       Everyone               Art & Design               1.2.4   \n",
       "3        0.0           Teen               Art & Design  Varies with device   \n",
       "4        0.0       Everyone    Art & Design;Creativity                 1.1   \n",
       "...      ...            ...                        ...                 ...   \n",
       "10825    0.0     Mature 17+                     Social  Varies with device   \n",
       "10826    0.0       Everyone                  Education              2.0.20   \n",
       "10830    0.0       Everyone          Maps & Navigation           2.0.148.0   \n",
       "10836    0.0       Everyone                  Education                 1.0   \n",
       "10839    0.0       Everyone                  Lifestyle  Varies with device   \n",
       "\n",
       "              Android Ver  Day  month  year  \n",
       "0            4.0.3 and up    7      1  2018  \n",
       "1            4.0.3 and up   15      1  2018  \n",
       "2            4.0.3 and up    1      8  2018  \n",
       "3              4.2 and up    8      6  2018  \n",
       "4              4.4 and up   20      6  2018  \n",
       "...                   ...  ...    ...   ...  \n",
       "10825  Varies with device   23      3  2018  \n",
       "10826        4.0.3 and up   13      6  2018  \n",
       "10830          4.0 and up   13      6  2018  \n",
       "10836          4.1 and up    6      7  2018  \n",
       "10839  Varies with device   25      7  2018  \n",
       "\n",
       "[7349 rows x 16 columns]"
      ],
      "text/html": [
       "<div>\n",
       "<style scoped>\n",
       "    .dataframe tbody tr th:only-of-type {\n",
       "        vertical-align: middle;\n",
       "    }\n",
       "\n",
       "    .dataframe tbody tr th {\n",
       "        vertical-align: top;\n",
       "    }\n",
       "\n",
       "    .dataframe thead th {\n",
       "        text-align: right;\n",
       "    }\n",
       "</style>\n",
       "<table border=\"1\" class=\"dataframe\">\n",
       "  <thead>\n",
       "    <tr style=\"text-align: right;\">\n",
       "      <th></th>\n",
       "      <th>Unnamed: 0</th>\n",
       "      <th>App</th>\n",
       "      <th>Category</th>\n",
       "      <th>Rating</th>\n",
       "      <th>Reviews</th>\n",
       "      <th>Size</th>\n",
       "      <th>Installs</th>\n",
       "      <th>Type</th>\n",
       "      <th>Price</th>\n",
       "      <th>Content Rating</th>\n",
       "      <th>Genres</th>\n",
       "      <th>Current Ver</th>\n",
       "      <th>Android Ver</th>\n",
       "      <th>Day</th>\n",
       "      <th>month</th>\n",
       "      <th>year</th>\n",
       "    </tr>\n",
       "  </thead>\n",
       "  <tbody>\n",
       "    <tr>\n",
       "      <th>0</th>\n",
       "      <td>0</td>\n",
       "      <td>Photo Editor &amp; Candy Camera &amp; Grid &amp; ScrapBook</td>\n",
       "      <td>ART_AND_DESIGN</td>\n",
       "      <td>4.100000</td>\n",
       "      <td>159</td>\n",
       "      <td>19000.000000</td>\n",
       "      <td>10000</td>\n",
       "      <td>Free</td>\n",
       "      <td>0.0</td>\n",
       "      <td>Everyone</td>\n",
       "      <td>Art &amp; Design</td>\n",
       "      <td>1.0.0</td>\n",
       "      <td>4.0.3 and up</td>\n",
       "      <td>7</td>\n",
       "      <td>1</td>\n",
       "      <td>2018</td>\n",
       "    </tr>\n",
       "    <tr>\n",
       "      <th>1</th>\n",
       "      <td>1</td>\n",
       "      <td>Coloring book moana</td>\n",
       "      <td>ART_AND_DESIGN</td>\n",
       "      <td>3.900000</td>\n",
       "      <td>967</td>\n",
       "      <td>14000.000000</td>\n",
       "      <td>500000</td>\n",
       "      <td>Free</td>\n",
       "      <td>0.0</td>\n",
       "      <td>Everyone</td>\n",
       "      <td>Art &amp; Design;Pretend Play</td>\n",
       "      <td>2.0.0</td>\n",
       "      <td>4.0.3 and up</td>\n",
       "      <td>15</td>\n",
       "      <td>1</td>\n",
       "      <td>2018</td>\n",
       "    </tr>\n",
       "    <tr>\n",
       "      <th>2</th>\n",
       "      <td>2</td>\n",
       "      <td>U Launcher Lite – FREE Live Cool Themes, Hide ...</td>\n",
       "      <td>ART_AND_DESIGN</td>\n",
       "      <td>4.700000</td>\n",
       "      <td>87510</td>\n",
       "      <td>8700.000000</td>\n",
       "      <td>5000000</td>\n",
       "      <td>Free</td>\n",
       "      <td>0.0</td>\n",
       "      <td>Everyone</td>\n",
       "      <td>Art &amp; Design</td>\n",
       "      <td>1.2.4</td>\n",
       "      <td>4.0.3 and up</td>\n",
       "      <td>1</td>\n",
       "      <td>8</td>\n",
       "      <td>2018</td>\n",
       "    </tr>\n",
       "    <tr>\n",
       "      <th>3</th>\n",
       "      <td>3</td>\n",
       "      <td>Sketch - Draw &amp; Paint</td>\n",
       "      <td>ART_AND_DESIGN</td>\n",
       "      <td>4.500000</td>\n",
       "      <td>215644</td>\n",
       "      <td>25000.000000</td>\n",
       "      <td>50000000</td>\n",
       "      <td>Free</td>\n",
       "      <td>0.0</td>\n",
       "      <td>Teen</td>\n",
       "      <td>Art &amp; Design</td>\n",
       "      <td>Varies with device</td>\n",
       "      <td>4.2 and up</td>\n",
       "      <td>8</td>\n",
       "      <td>6</td>\n",
       "      <td>2018</td>\n",
       "    </tr>\n",
       "    <tr>\n",
       "      <th>4</th>\n",
       "      <td>4</td>\n",
       "      <td>Pixel Draw - Number Art Coloring Book</td>\n",
       "      <td>ART_AND_DESIGN</td>\n",
       "      <td>4.300000</td>\n",
       "      <td>967</td>\n",
       "      <td>2800.000000</td>\n",
       "      <td>100000</td>\n",
       "      <td>Free</td>\n",
       "      <td>0.0</td>\n",
       "      <td>Everyone</td>\n",
       "      <td>Art &amp; Design;Creativity</td>\n",
       "      <td>1.1</td>\n",
       "      <td>4.4 and up</td>\n",
       "      <td>20</td>\n",
       "      <td>6</td>\n",
       "      <td>2018</td>\n",
       "    </tr>\n",
       "    <tr>\n",
       "      <th>...</th>\n",
       "      <td>...</td>\n",
       "      <td>...</td>\n",
       "      <td>...</td>\n",
       "      <td>...</td>\n",
       "      <td>...</td>\n",
       "      <td>...</td>\n",
       "      <td>...</td>\n",
       "      <td>...</td>\n",
       "      <td>...</td>\n",
       "      <td>...</td>\n",
       "      <td>...</td>\n",
       "      <td>...</td>\n",
       "      <td>...</td>\n",
       "      <td>...</td>\n",
       "      <td>...</td>\n",
       "      <td>...</td>\n",
       "    </tr>\n",
       "    <tr>\n",
       "      <th>10825</th>\n",
       "      <td>10826</td>\n",
       "      <td>Frim: get new friends on local chat rooms</td>\n",
       "      <td>SOCIAL</td>\n",
       "      <td>4.000000</td>\n",
       "      <td>88486</td>\n",
       "      <td>22270.540265</td>\n",
       "      <td>5000000</td>\n",
       "      <td>Free</td>\n",
       "      <td>0.0</td>\n",
       "      <td>Mature 17+</td>\n",
       "      <td>Social</td>\n",
       "      <td>Varies with device</td>\n",
       "      <td>Varies with device</td>\n",
       "      <td>23</td>\n",
       "      <td>3</td>\n",
       "      <td>2018</td>\n",
       "    </tr>\n",
       "    <tr>\n",
       "      <th>10826</th>\n",
       "      <td>10827</td>\n",
       "      <td>Fr Agnel Ambarnath</td>\n",
       "      <td>FAMILY</td>\n",
       "      <td>4.200000</td>\n",
       "      <td>117</td>\n",
       "      <td>13000.000000</td>\n",
       "      <td>5000</td>\n",
       "      <td>Free</td>\n",
       "      <td>0.0</td>\n",
       "      <td>Everyone</td>\n",
       "      <td>Education</td>\n",
       "      <td>2.0.20</td>\n",
       "      <td>4.0.3 and up</td>\n",
       "      <td>13</td>\n",
       "      <td>6</td>\n",
       "      <td>2018</td>\n",
       "    </tr>\n",
       "    <tr>\n",
       "      <th>10830</th>\n",
       "      <td>10831</td>\n",
       "      <td>payermonstationnement.fr</td>\n",
       "      <td>MAPS_AND_NAVIGATION</td>\n",
       "      <td>4.191757</td>\n",
       "      <td>38</td>\n",
       "      <td>9800.000000</td>\n",
       "      <td>5000</td>\n",
       "      <td>Free</td>\n",
       "      <td>0.0</td>\n",
       "      <td>Everyone</td>\n",
       "      <td>Maps &amp; Navigation</td>\n",
       "      <td>2.0.148.0</td>\n",
       "      <td>4.0 and up</td>\n",
       "      <td>13</td>\n",
       "      <td>6</td>\n",
       "      <td>2018</td>\n",
       "    </tr>\n",
       "    <tr>\n",
       "      <th>10836</th>\n",
       "      <td>10837</td>\n",
       "      <td>Fr. Mike Schmitz Audio Teachings</td>\n",
       "      <td>FAMILY</td>\n",
       "      <td>5.000000</td>\n",
       "      <td>4</td>\n",
       "      <td>3600.000000</td>\n",
       "      <td>100</td>\n",
       "      <td>Free</td>\n",
       "      <td>0.0</td>\n",
       "      <td>Everyone</td>\n",
       "      <td>Education</td>\n",
       "      <td>1.0</td>\n",
       "      <td>4.1 and up</td>\n",
       "      <td>6</td>\n",
       "      <td>7</td>\n",
       "      <td>2018</td>\n",
       "    </tr>\n",
       "    <tr>\n",
       "      <th>10839</th>\n",
       "      <td>10840</td>\n",
       "      <td>iHoroscope - 2018 Daily Horoscope &amp; Astrology</td>\n",
       "      <td>LIFESTYLE</td>\n",
       "      <td>4.500000</td>\n",
       "      <td>398307</td>\n",
       "      <td>19000.000000</td>\n",
       "      <td>10000000</td>\n",
       "      <td>Free</td>\n",
       "      <td>0.0</td>\n",
       "      <td>Everyone</td>\n",
       "      <td>Lifestyle</td>\n",
       "      <td>Varies with device</td>\n",
       "      <td>Varies with device</td>\n",
       "      <td>25</td>\n",
       "      <td>7</td>\n",
       "      <td>2018</td>\n",
       "    </tr>\n",
       "  </tbody>\n",
       "</table>\n",
       "<p>7349 rows × 16 columns</p>\n",
       "</div>"
      ]
     },
     "execution_count": 16,
     "metadata": {},
     "output_type": "execute_result"
    }
   ],
   "execution_count": 16
  },
  {
   "metadata": {
    "ExecuteTime": {
     "end_time": "2025-10-11T18:09:42.083569900Z",
     "start_time": "2025-10-06T04:10:19.673184Z"
    }
   },
   "cell_type": "code",
   "source": [
    "def get_year_weight(year): # for giving importance to newer years than previous ones\n",
    "    if year >= 2023:\n",
    "        return 100\n",
    "    elif year == 2022:\n",
    "        return 50\n",
    "    elif year >= 2020:\n",
    "        return 20\n",
    "    else:\n",
    "        return 1"
   ],
   "id": "63971dc9aa3b0550",
   "outputs": [],
   "execution_count": 5
  },
  {
   "metadata": {
    "ExecuteTime": {
     "end_time": "2025-10-11T18:09:42.086570200Z",
     "start_time": "2025-10-06T04:10:21.068429Z"
    }
   },
   "cell_type": "code",
   "source": "df[\"weights\"] = df[\"year\"].apply(get_year_weight)",
   "id": "a4328f1cd0bb6a88",
   "outputs": [],
   "execution_count": 6
  },
  {
   "metadata": {
    "ExecuteTime": {
     "end_time": "2025-10-11T18:09:42.088966200Z",
     "start_time": "2025-10-06T04:11:06.029130Z"
    }
   },
   "cell_type": "code",
   "source": "df.tail()",
   "id": "952fcae604d1b1c8",
   "outputs": [
    {
     "data": {
      "text/plain": [
       "             Category     Size   Installs  Price Content Rating  year  weights\n",
       "11781  ART_AND_DESIGN  40000.0  100000000    0.0       Everyone  2020       20\n",
       "11782  ART_AND_DESIGN  90000.0   50000000    0.0       Everyone  2020       20\n",
       "11783  ART_AND_DESIGN  60000.0   10000000    0.0       Everyone  2020       20\n",
       "11784  ART_AND_DESIGN  70000.0  100000000    0.0       Everyone  2020       20\n",
       "11785  ART_AND_DESIGN  40000.0    5000000    0.0       Everyone  2020       20"
      ],
      "text/html": [
       "<div>\n",
       "<style scoped>\n",
       "    .dataframe tbody tr th:only-of-type {\n",
       "        vertical-align: middle;\n",
       "    }\n",
       "\n",
       "    .dataframe tbody tr th {\n",
       "        vertical-align: top;\n",
       "    }\n",
       "\n",
       "    .dataframe thead th {\n",
       "        text-align: right;\n",
       "    }\n",
       "</style>\n",
       "<table border=\"1\" class=\"dataframe\">\n",
       "  <thead>\n",
       "    <tr style=\"text-align: right;\">\n",
       "      <th></th>\n",
       "      <th>Category</th>\n",
       "      <th>Size</th>\n",
       "      <th>Installs</th>\n",
       "      <th>Price</th>\n",
       "      <th>Content Rating</th>\n",
       "      <th>year</th>\n",
       "      <th>weights</th>\n",
       "    </tr>\n",
       "  </thead>\n",
       "  <tbody>\n",
       "    <tr>\n",
       "      <th>11781</th>\n",
       "      <td>ART_AND_DESIGN</td>\n",
       "      <td>40000.0</td>\n",
       "      <td>100000000</td>\n",
       "      <td>0.0</td>\n",
       "      <td>Everyone</td>\n",
       "      <td>2020</td>\n",
       "      <td>20</td>\n",
       "    </tr>\n",
       "    <tr>\n",
       "      <th>11782</th>\n",
       "      <td>ART_AND_DESIGN</td>\n",
       "      <td>90000.0</td>\n",
       "      <td>50000000</td>\n",
       "      <td>0.0</td>\n",
       "      <td>Everyone</td>\n",
       "      <td>2020</td>\n",
       "      <td>20</td>\n",
       "    </tr>\n",
       "    <tr>\n",
       "      <th>11783</th>\n",
       "      <td>ART_AND_DESIGN</td>\n",
       "      <td>60000.0</td>\n",
       "      <td>10000000</td>\n",
       "      <td>0.0</td>\n",
       "      <td>Everyone</td>\n",
       "      <td>2020</td>\n",
       "      <td>20</td>\n",
       "    </tr>\n",
       "    <tr>\n",
       "      <th>11784</th>\n",
       "      <td>ART_AND_DESIGN</td>\n",
       "      <td>70000.0</td>\n",
       "      <td>100000000</td>\n",
       "      <td>0.0</td>\n",
       "      <td>Everyone</td>\n",
       "      <td>2020</td>\n",
       "      <td>20</td>\n",
       "    </tr>\n",
       "    <tr>\n",
       "      <th>11785</th>\n",
       "      <td>ART_AND_DESIGN</td>\n",
       "      <td>40000.0</td>\n",
       "      <td>5000000</td>\n",
       "      <td>0.0</td>\n",
       "      <td>Everyone</td>\n",
       "      <td>2020</td>\n",
       "      <td>20</td>\n",
       "    </tr>\n",
       "  </tbody>\n",
       "</table>\n",
       "</div>"
      ]
     },
     "execution_count": 8,
     "metadata": {},
     "output_type": "execute_result"
    }
   ],
   "execution_count": 8
  },
  {
   "metadata": {
    "ExecuteTime": {
     "end_time": "2025-10-11T18:09:42.102501100Z",
     "start_time": "2025-10-06T04:13:33.389489Z"
    }
   },
   "cell_type": "code",
   "source": "df[[\"Installs\", \"weights\"]].to_csv(\"../data/installs_and_weights.csv\" ,index=False)",
   "id": "aa0c16e00183aaf4",
   "outputs": [],
   "execution_count": 11
  },
  {
   "metadata": {
    "ExecuteTime": {
     "end_time": "2025-10-11T18:10:04.661554Z",
     "start_time": "2025-10-11T18:10:04.651490Z"
    }
   },
   "cell_type": "code",
   "source": "df.dtypes",
   "id": "868ebb33525dd567",
   "outputs": [
    {
     "data": {
      "text/plain": [
       "Category           object\n",
       "Size              float64\n",
       "Installs            int64\n",
       "Price             float64\n",
       "Content Rating     object\n",
       "year                int64\n",
       "dtype: object"
      ]
     },
     "execution_count": 10,
     "metadata": {},
     "output_type": "execute_result"
    }
   ],
   "execution_count": 10
  },
  {
   "metadata": {
    "ExecuteTime": {
     "end_time": "2025-10-11T18:10:23.536696Z",
     "start_time": "2025-10-11T18:10:23.526225Z"
    }
   },
   "cell_type": "code",
   "source": "df[\"Category\"].unique()",
   "id": "9511aa98375588ff",
   "outputs": [
    {
     "data": {
      "text/plain": [
       "array(['ART_AND_DESIGN', 'AUTO_AND_VEHICLES', 'BEAUTY',\n",
       "       'BOOKS_AND_REFERENCE', 'BUSINESS', 'COMICS', 'COMMUNICATION',\n",
       "       'DATING', 'EDUCATION', 'ENTERTAINMENT', 'EVENTS', 'FINANCE',\n",
       "       'FOOD_AND_DRINK', 'HEALTH_AND_FITNESS', 'HOUSE_AND_HOME',\n",
       "       'LIBRARIES_AND_DEMO', 'LIFESTYLE', 'GAME', 'FAMILY', 'MEDICAL',\n",
       "       'SOCIAL', 'SHOPPING', 'PHOTOGRAPHY', 'SPORTS', 'TRAVEL_AND_LOCAL',\n",
       "       'TOOLS', 'PERSONALIZATION', 'PRODUCTIVITY', 'PARENTING', 'WEATHER',\n",
       "       'VIDEO_PLAYERS', 'NEWS_AND_MAGAZINES', 'MAPS_AND_NAVIGATION',\n",
       "       'PHOTO_AND_VIDEO', 'GAME_ROLE_PLAYING', 'GAME_ACTION',\n",
       "       'GAME_ADVENTURE', 'GAME_CARD', 'GAME_SPORTS', 'GAME_BOARD',\n",
       "       'GAME_PUZZLE', 'GAME_STRATEGY', 'GAME_SIMULATION',\n",
       "       'MUSIC_AND_AUDIO', 'GAME_MUSIC', 'GAME_RACING', 'GAME_WORD'],\n",
       "      dtype=object)"
      ]
     },
     "execution_count": 11,
     "metadata": {},
     "output_type": "execute_result"
    }
   ],
   "execution_count": 11
  }
 ],
 "metadata": {
  "kernelspec": {
   "display_name": "Python 3",
   "language": "python",
   "name": "python3"
  },
  "language_info": {
   "codemirror_mode": {
    "name": "ipython",
    "version": 2
   },
   "file_extension": ".py",
   "mimetype": "text/x-python",
   "name": "python",
   "nbconvert_exporter": "python",
   "pygments_lexer": "ipython2",
   "version": "2.7.6"
  }
 },
 "nbformat": 4,
 "nbformat_minor": 5
}
